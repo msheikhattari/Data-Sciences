{
 "cells": [
  {
   "cell_type": "code",
   "execution_count": 1,
   "id": "06241e75",
   "metadata": {},
   "outputs": [],
   "source": [
    "import requests, pandas as pd, numpy as np\n",
    "from bs4 import BeautifulSoup"
   ]
  },
  {
   "cell_type": "code",
   "execution_count": 56,
   "id": "6e8de439",
   "metadata": {},
   "outputs": [],
   "source": [
    "#Part 1, step 1\n",
    "html = requests.get('https://cmsc320.github.io/files/top-50-solar-flares.html').text\n",
    "soup = BeautifulSoup(html, \"html\")\n",
    "table = soup.find('table', {\"class\": \"table table-striped table-responsive-md\"})\n",
    "df = pd.read_html(str(table))[0]"
   ]
  },
  {
   "cell_type": "code",
   "execution_count": 57,
   "id": "3090c13f",
   "metadata": {},
   "outputs": [],
   "source": [
    "#Part 1, step 2\n",
    "df.drop('Unnamed: 7', axis = 1, inplace = True)"
   ]
  },
  {
   "cell_type": "code",
   "execution_count": 58,
   "id": "6f90df5c",
   "metadata": {},
   "outputs": [],
   "source": [
    "from datetime import datetime\n",
    "\n",
    "\n",
    "for index, row in df.iterrows():\n",
    "    start = df.at[index, \"Start\"]\n",
    "    maximum = df.at[index, \"Maximum\"]\n",
    "    end = df.at[index, \"End\"]\n",
    "    dt = df.at[index,\"Unnamed: 2\"]\n",
    "    \n",
    "    combined_start = datetime.combine(datetime.strptime(dt, '%Y/%m/%d'), datetime.strptime(start, '%H:%M').time())\n",
    "    combined_max = datetime.combine(datetime.strptime(dt, '%Y/%m/%d'), datetime.strptime(maximum, '%H:%M').time())\n",
    "    combined_end = datetime.combine(datetime.strptime(dt, '%Y/%m/%d'), datetime.strptime(end, '%H:%M').time())\n",
    "    \n",
    "    df.at[index, \"Start\"] = combined_start\n",
    "    df.at[index, \"Maximum\"] = combined_max\n",
    "    df.at[index, \"End\"] = combined_end\n",
    "    \n",
    "df.drop('Unnamed: 2', axis = 1, inplace = True)\n",
    "\n",
    "df.rename(columns={\"Unnamed: 0\": \"rank\", \"Unnamed: 1\": \"x_classification\", \"Start\": \"start_datetime\", \"End\": \"end_datetime\", \"Maximum\": \"max_datetime\", \"Region\": \"region\"}, inplace=True)\n",
    "df = df[['rank', 'x_classification', 'start_datetime', 'max_datetime', 'end_datetime', 'region']]"
   ]
  },
  {
   "cell_type": "code",
   "execution_count": 59,
   "id": "532cb4bd",
   "metadata": {},
   "outputs": [
    {
     "name": "stdout",
     "output_type": "stream",
     "text": [
      "    rank x_classification       start_datetime         max_datetime  \\\n",
      "0      1             X28+  2003-11-04 19:29:00  2003-11-04 19:53:00   \n",
      "1      2             X20+  2001-04-02 21:32:00  2001-04-02 21:51:00   \n",
      "2      3           X17.2+  2003-10-28 09:51:00  2003-10-28 11:10:00   \n",
      "3      4             X17+  2005-09-07 17:17:00  2005-09-07 17:40:00   \n",
      "4      5            X14.4  2001-04-15 13:19:00  2001-04-15 13:50:00   \n",
      "5      6              X10  2003-10-29 20:37:00  2003-10-29 20:49:00   \n",
      "6      7             X9.4  1997-11-06 11:49:00  1997-11-06 11:55:00   \n",
      "7      8             X9.3  2017-09-06 11:53:00  2017-09-06 12:02:00   \n",
      "8      9               X9  2006-12-05 10:18:00  2006-12-05 10:35:00   \n",
      "9     10             X8.3  2003-11-02 17:03:00  2003-11-02 17:25:00   \n",
      "10    11             X8.2  2017-09-10 15:35:00  2017-09-10 16:06:00   \n",
      "11    12             X7.1  2005-01-20 06:36:00  2005-01-20 07:01:00   \n",
      "12    13             X6.9  2011-08-09 07:48:00  2011-08-09 08:05:00   \n",
      "13    14             X6.5  2006-12-06 18:29:00  2006-12-06 18:47:00   \n",
      "14    15             X6.2  2005-09-09 19:13:00  2005-09-09 20:04:00   \n",
      "15    16             X6.2  2001-12-13 14:20:00  2001-12-13 14:30:00   \n",
      "16    17             X5.7  2000-07-14 10:03:00  2000-07-14 10:24:00   \n",
      "17    18             X5.6  2001-04-06 19:10:00  2001-04-06 19:21:00   \n",
      "18    19             X5.4  2012-03-07 00:02:00  2012-03-07 00:24:00   \n",
      "19    20             X5.4  2005-09-08 20:52:00  2005-09-08 21:06:00   \n",
      "20    21             X5.4  2003-10-23 08:19:00  2003-10-23 08:35:00   \n",
      "21    22             X5.3  2001-08-25 16:23:00  2001-08-25 16:45:00   \n",
      "22    23             X4.9  2014-02-25 00:39:00  2014-02-25 00:49:00   \n",
      "23    24             X4.9  1998-08-18 22:10:00  1998-08-18 22:19:00   \n",
      "24    25             X4.8  2002-07-23 00:18:00  2002-07-23 00:35:00   \n",
      "25    26               X4  2000-11-26 16:34:00  2000-11-26 16:48:00   \n",
      "26    27             X3.9  2003-11-03 09:43:00  2003-11-03 09:55:00   \n",
      "27    28             X3.9  1998-08-19 21:35:00  1998-08-19 21:45:00   \n",
      "28    29             X3.8  2005-01-17 06:59:00  2005-01-17 09:52:00   \n",
      "29    30             X3.7  1998-11-22 06:30:00  1998-11-22 06:42:00   \n",
      "30    31             X3.6  2005-09-09 09:42:00  2005-09-09 09:59:00   \n",
      "31    32             X3.6  2004-07-16 13:49:00  2004-07-16 13:55:00   \n",
      "32    33             X3.6  2003-05-28 00:17:00  2003-05-28 00:27:00   \n",
      "33    34             X3.4  2006-12-13 02:14:00  2006-12-13 02:40:00   \n",
      "34    35             X3.4  2001-12-28 20:02:00  2001-12-28 20:45:00   \n",
      "35    36             X3.3  2013-11-05 22:07:00  2013-11-05 22:12:00   \n",
      "36    37             X3.3  2002-07-20 21:04:00  2002-07-20 21:30:00   \n",
      "37    38             X3.3  1998-11-28 04:54:00  1998-11-28 05:52:00   \n",
      "38    39             X3.2  2013-05-14 00:00:00  2013-05-14 01:11:00   \n",
      "39    40             X3.1  2014-10-24 21:07:00  2014-10-24 21:41:00   \n",
      "40    41             X3.1  2002-08-24 00:49:00  2002-08-24 01:12:00   \n",
      "41    42               X3  2002-07-15 19:59:00  2002-07-15 20:08:00   \n",
      "42    43             X2.8  2013-05-13 15:48:00  2013-05-13 16:05:00   \n",
      "43    44             X2.8  2001-12-11 07:58:00  2001-12-11 08:08:00   \n",
      "44    45             X2.8  1998-08-18 08:14:00  1998-08-18 08:24:00   \n",
      "45    46             X2.7  2015-05-05 22:05:00  2015-05-05 22:11:00   \n",
      "46    47             X2.7  2003-11-03 01:09:00  2003-11-03 01:30:00   \n",
      "47    48             X2.7  1998-05-06 07:58:00  1998-05-06 08:09:00   \n",
      "48    49             X2.6  2005-01-15 22:25:00  2005-01-15 23:02:00   \n",
      "49    50             X2.6  2001-09-24 09:32:00  2001-09-24 10:38:00   \n",
      "\n",
      "           end_datetime  region  \n",
      "0   2003-11-04 20:06:00     486  \n",
      "1   2001-04-02 22:03:00    9393  \n",
      "2   2003-10-28 11:24:00     486  \n",
      "3   2005-09-07 18:03:00     808  \n",
      "4   2001-04-15 13:55:00    9415  \n",
      "5   2003-10-29 21:01:00     486  \n",
      "6   1997-11-06 12:01:00    8100  \n",
      "7   2017-09-06 12:10:00    2673  \n",
      "8   2006-12-05 10:45:00     930  \n",
      "9   2003-11-02 17:39:00     486  \n",
      "10  2017-09-10 16:31:00    2673  \n",
      "11  2005-01-20 07:26:00     720  \n",
      "12  2011-08-09 08:08:00    1263  \n",
      "13  2006-12-06 19:00:00     930  \n",
      "14  2005-09-09 20:36:00     808  \n",
      "15  2001-12-13 14:35:00    9733  \n",
      "16  2000-07-14 10:43:00    9077  \n",
      "17  2001-04-06 19:31:00    9415  \n",
      "18  2012-03-07 00:40:00    1429  \n",
      "19  2005-09-08 21:17:00     808  \n",
      "20  2003-10-23 08:49:00     486  \n",
      "21  2001-08-25 17:04:00    9591  \n",
      "22  2014-02-25 01:03:00    1990  \n",
      "23  1998-08-18 22:28:00    8307  \n",
      "24  2002-07-23 00:47:00      39  \n",
      "25  2000-11-26 16:56:00    9236  \n",
      "26  2003-11-03 10:19:00     488  \n",
      "27  1998-08-19 21:50:00    8307  \n",
      "28  2005-01-17 10:07:00     720  \n",
      "29  1998-11-22 06:49:00    8384  \n",
      "30  2005-09-09 10:08:00     808  \n",
      "31  2004-07-16 14:01:00     649  \n",
      "32  2003-05-28 00:39:00     365  \n",
      "33  2006-12-13 02:57:00     930  \n",
      "34  2001-12-28 21:32:00    9767  \n",
      "35  2013-11-05 22:15:00    1890  \n",
      "36  2002-07-20 21:54:00      39  \n",
      "37  1998-11-28 06:13:00    8395  \n",
      "38  2013-05-14 01:20:00    1748  \n",
      "39  2014-10-24 22:13:00    2192  \n",
      "40  2002-08-24 01:31:00      69  \n",
      "41  2002-07-15 20:14:00      30  \n",
      "42  2013-05-13 16:16:00    1748  \n",
      "43  2001-12-11 08:14:00    9733  \n",
      "44  1998-08-18 08:32:00    8307  \n",
      "45  2015-05-05 22:15:00    2339  \n",
      "46  2003-11-03 01:45:00     488  \n",
      "47  1998-05-06 08:20:00    8210  \n",
      "48  2005-01-15 23:31:00     720  \n",
      "49  2001-09-24 11:09:00    9632  \n"
     ]
    }
   ],
   "source": [
    "print(df)"
   ]
  },
  {
   "cell_type": "code",
   "execution_count": 16,
   "id": "f80851ec",
   "metadata": {},
   "outputs": [
    {
     "name": "stdout",
     "output_type": "stream",
     "text": [
      "[<ul class=\"navbar-nav mr-auto\"> <li class=\"nav-item p-lg-2\"> <a class=\"nav-link\" href=\"https://www.spaceweatherlive.com/en/news.html\">News</a> </li> <li class=\"nav-item p-lg-2 dropdown\"> <a aria-expanded=\"false\" aria-haspopup=\"true\" class=\"nav-link dropdown-toggle\" data-toggle=\"dropdown\" href=\"#\" id=\"dropdown01\">Solar activity</a> <div aria-labelledby=\"dropdown01\" class=\"dropdown-menu\"> <a class=\"dropdown-item\" href=\"https://www.spaceweatherlive.com/en/solar-activity.html\">Real-time Solar activity</a> <a class=\"dropdown-item\" href=\"https://www.spaceweatherlive.com/en/solar-activity/solar-flares.html\">Solar flares</a> <a class=\"dropdown-item\" href=\"https://www.spaceweatherlive.com/en/solar-activity/sunspot-regions.html\">Sunspot regions</a> <a class=\"dropdown-item\" href=\"https://www.spaceweatherlive.com/en/solar-activity/coronal-holes.html\">Coronal holes</a> <a class=\"dropdown-item\" href=\"https://www.spaceweatherlive.com/en/solar-activity/solar-cycle.html\">Solar Cycle</a> <a class=\"dropdown-item\" href=\"https://www.spaceweatherlive.com/en/solar-activity/wsa-enlil.html\">WSA-Enlil</a> <div class=\"dropdown-divider\"></div> <h6 class=\"dropdown-header\">Solar images</h6> <a class=\"dropdown-item\" href=\"https://www.spaceweatherlive.com/en/solar-activity/solar-images/sdo.html\">SDO</a> <a class=\"dropdown-item\" href=\"https://www.spaceweatherlive.com/en/solar-activity/solar-images/stereo.html\">STEREO</a> <a class=\"dropdown-item\" href=\"https://www.spaceweatherlive.com/en/solar-activity/solar-images/proba.html\">PROBA-2</a> <a class=\"dropdown-item\" href=\"https://www.spaceweatherlive.com/en/solar-activity/solar-images/soho.html\">SOHO</a> <a class=\"dropdown-item\" href=\"https://www.spaceweatherlive.com/en/solar-activity/solar-images/goes.html\">GOES</a> </div> </li> <li class=\"nav-item p-lg-2 dropdown\"> <a aria-expanded=\"false\" aria-haspopup=\"true\" class=\"nav-link dropdown-toggle\" data-toggle=\"dropdown\" href=\"#\" id=\"dropdown02\">Auroral activity</a> <div aria-labelledby=\"dropdown02\" class=\"dropdown-menu\"> <a class=\"dropdown-item\" href=\"https://www.spaceweatherlive.com/en/auroral-activity.html\">Auroral activity</a> <a class=\"dropdown-item\" href=\"https://www.spaceweatherlive.com/en/auroral-activity/real-time-auroral-activity.html\">Real-time auroral activity</a> <a class=\"dropdown-item\" href=\"https://www.spaceweatherlive.com/en/auroral-activity/kp-index.html\">Kp-index</a> <a class=\"dropdown-item\" href=\"https://www.spaceweatherlive.com/en/auroral-activity/auroral-oval.html\">Auroral oval</a> <a class=\"dropdown-item\" href=\"https://www.spaceweatherlive.com/en/auroral-activity/magnetometers.html\">Magnetometers</a> <a class=\"dropdown-item\" href=\"https://www.spaceweatherlive.com/en/auroral-activity/webcams.html\">Webcams</a> <a class=\"dropdown-item\" href=\"https://www.spaceweatherlive.com/en/auroral-activity/aurora-forecast.html\">Aurora forecast</a> <a class=\"dropdown-item\" href=\"https://www.spaceweatherlive.com/en/moon-phases-calendar.html\">Moon Phases Calendar</a> </div> </li> <li class=\"nav-item p-lg-2 dropdown\"> <a aria-expanded=\"false\" aria-haspopup=\"true\" class=\"nav-link dropdown-toggle\" data-toggle=\"dropdown\" href=\"#\" id=\"dropdown03\">Reports</a> <div aria-labelledby=\"dropdown03\" class=\"dropdown-menu\"> <a class=\"dropdown-item\" href=\"https://www.spaceweatherlive.com/en/reports/solar-activity-report.html\">Solar activity report</a> <a class=\"dropdown-item\" href=\"https://www.spaceweatherlive.com/en/reports/sunspot-report.html\">Sunspot report</a> <a class=\"dropdown-item\" href=\"https://www.spaceweatherlive.com/en/reports/geophysical-report.html\">Geophysical report</a> <a class=\"dropdown-item\" href=\"https://www.spaceweatherlive.com/en/reports/noaa-swpc-alerts-watches-and-warnings.html\">NOAA SWPC Alerts, Watches and Warnings</a> <div class=\"dropdown-divider\"></div> <h6 class=\"dropdown-header\">Forecast</h6> <a class=\"dropdown-item\" href=\"https://www.spaceweatherlive.com/en/reports/forecast-discussion.html\">Forecast discussion</a> <a class=\"dropdown-item\" href=\"https://www.spaceweatherlive.com/en/reports/3-day-forecast.html\">3-Day Forecast</a> <div class=\"dropdown-divider\"></div> <h6 class=\"dropdown-header\">SpaceWeatherLive Reports</h6> <a class=\"dropdown-item\" href=\"https://www.spaceweatherlive.com/en/news.html\">News</a> </div> </li> <li class=\"nav-item p-lg-2 dropdown\"> <a aria-expanded=\"false\" aria-haspopup=\"true\" class=\"nav-link dropdown-toggle\" data-toggle=\"dropdown\" href=\"#\" id=\"dropdown04\">Archive</a> <div aria-labelledby=\"dropdown04\" class=\"dropdown-menu\"> <a class=\"dropdown-item\" href=\"https://www.spaceweatherlive.com/en/archive.html\">The aurora and solar activity archive</a> <div class=\"dropdown-divider\"></div> <a class=\"dropdown-item\" href=\"https://www.spaceweatherlive.com/en/solar-activity/top-50-solar-flares.html\">Top 50 solar flares</a> <a class=\"dropdown-item\" href=\"https://www.spaceweatherlive.com/en/solar-activity/top-25-sunspot-regions.html\">Top 25 sunspot regions</a> <a class=\"dropdown-item\" href=\"https://www.spaceweatherlive.com/en/auroral-activity/top-50-geomagnetic-storms.html\">Top 50 geomagnetic storms</a> <div class=\"dropdown-divider\"></div> <h6 class=\"dropdown-header\">Solar Cycle</h6> <a class=\"dropdown-item\" href=\"https://www.spaceweatherlive.com/en/solar-activity/solar-cycle.html\">Solar Cycle progression</a> <a class=\"dropdown-item\" href=\"https://www.spaceweatherlive.com/en/solar-activity/solar-cycle/historical-solar-cycles.html\">Historical solar cycles</a> </div> </li> <li class=\"nav-item p-lg-2\"> <a class=\"nav-link\" href=\"https://www.spaceweatherlive.com/community\">Community</a> </li> <li class=\"nav-item p-lg-2\"> <a class=\"nav-link\" href=\"https://www.spaceweatherlive.com/community/gallery/\">Gallery</a> </li> <li class=\"nav-item p-lg-2 dropdown\"> <a aria-expanded=\"false\" aria-haspopup=\"true\" class=\"nav-link dropdown-toggle\" data-toggle=\"dropdown\" href=\"#\" id=\"dropdown05\">Help</a> <div aria-labelledby=\"dropdown05\" class=\"dropdown-menu\"> <a class=\"dropdown-item\" href=\"https://www.spaceweatherlive.com/en/help.html\">Help</a> <a class=\"dropdown-item\" href=\"https://www.spaceweatherlive.com/en/faq.html\">FAQ</a> <a class=\"dropdown-item\" href=\"https://www.spaceweatherlive.com/en/acronyms-and-abbreviations.html\">Acronyms and abbreviations</a> </div> </li> <li class=\"nav-item p-lg-2\"> <a class=\"nav-link\" href=\"https://www.spaceweatherlive.com/en/links.html\">Links</a> </li> <li class=\"nav-item p-lg-2 dropdown\"> <a aria-expanded=\"false\" aria-haspopup=\"true\" class=\"nav-link dropdown-toggle\" data-toggle=\"dropdown\" href=\"#\" id=\"dropdown06\">About</a> <div aria-labelledby=\"dropdown05\" class=\"dropdown-menu\"> <a class=\"dropdown-item\" href=\"https://www.spaceweatherlive.com/en/about.html\">More about SpaceWeatherLive</a> <a class=\"dropdown-item\" href=\"https://www.spaceweatherlive.com/en/contact-us.html\">Contact us</a> <a class=\"dropdown-item\" href=\"https://www.spaceweatherlive.com/en/disclaimer.html\">Disclaimer</a> </div> </li> </ul>, <ul class=\"navbar-nav\"> <li class=\"nav-item dropdown\"> <a aria-expanded=\"false\" aria-haspopup=\"true\" class=\"nav-link dropdown-toggle\" data-toggle=\"dropdown\" href=\"#\" id=\"dropdown07\"><svg aria-hidden=\"true\" class=\"svg-inline--fa fa-globe fa-w-16\" data-fa-i2svg=\"\" data-icon=\"globe\" data-prefix=\"fas\" focusable=\"false\" role=\"img\" viewbox=\"0 0 496 512\" xmlns=\"http://www.w3.org/2000/svg\"><path d=\"M336.5 160C322 70.7 287.8 8 248 8s-74 62.7-88.5 152h177zM152 256c0 22.2 1.2 43.5 3.3 64h185.3c2.1-20.5 3.3-41.8 3.3-64s-1.2-43.5-3.3-64H155.3c-2.1 20.5-3.3 41.8-3.3 64zm324.7-96c-28.6-67.9-86.5-120.4-158-141.6 24.4 33.8 41.2 84.7 50 141.6h108zM177.2 18.4C105.8 39.6 47.8 92.1 19.3 160h108c8.7-56.9 25.5-107.8 49.9-141.6zM487.4 192H372.7c2.1 21 3.3 42.5 3.3 64s-1.2 43-3.3 64h114.6c5.5-20.5 8.6-41.8 8.6-64s-3.1-43.5-8.5-64zM120 256c0-21.5 1.2-43 3.3-64H8.6C3.2 212.5 0 233.8 0 256s3.2 43.5 8.6 64h114.6c-2-21-3.2-42.5-3.2-64zm39.5 96c14.5 89.3 48.7 152 88.5 152s74-62.7 88.5-152h-177zm159.3 141.6c71.4-21.2 129.4-73.7 158-141.6h-108c-8.8 56.9-25.6 107.8-50 141.6zM19.3 352c28.6 67.9 86.5 120.4 158 141.6-24.4-33.8-41.2-84.7-50-141.6h-108z\" fill=\"currentColor\"></path></svg><!-- <i class=\"fas fa-globe\" aria-hidden=\"true\"></i> Font Awesome fontawesome.com --> Languages</a> <div aria-labelledby=\"dropdown07\" class=\"dropdown-menu dropdown-menu-right\"><a class=\"dropdown-item\" href=\"https://www.spaceweatherlive.com/en\" lang=\"en\"><span class=\"flag flag-us\"></span> English</a><div class=\"dropdown-divider\"></div><a class=\"dropdown-item\" href=\"https://www.spaceweatherlive.com/ca\" lang=\"ca\"><span class=\"flag flag-catalonia\"></span> Catalan</a><a class=\"dropdown-item\" href=\"https://www.spaceweatherlive.com/es\" lang=\"es\"><span class=\"flag flag-es\"></span> Spanish</a><a class=\"dropdown-item\" href=\"https://www.spaceweatherlive.com/de\" lang=\"de\"><span class=\"flag flag-de\"></span> German</a><a class=\"dropdown-item\" href=\"https://www.spaceweatherlive.com/et\" lang=\"et\"><span class=\"flag flag-ee\"></span> Estonian</a><a class=\"dropdown-item\" href=\"https://www.spaceweatherlive.com/fi\" lang=\"fi\"><span class=\"flag flag-fi\"></span> Finnish</a><a class=\"dropdown-item\" href=\"https://www.spaceweatherlive.com/fr\" lang=\"fr\"><span class=\"flag flag-fr\"></span> French</a><a class=\"dropdown-item\" href=\"https://www.spaceweatherlive.com/it\" lang=\"it\"><span class=\"flag flag-it\"></span> Italian</a><a class=\"dropdown-item\" href=\"https://www.spaceweatherlive.com/nl\" lang=\"nl\"><span class=\"flag flag-nl\"></span> Dutch</a><a class=\"dropdown-item\" href=\"https://www.spaceweatherlive.com/pl\" lang=\"pl\"><span class=\"flag flag-pl\"></span> Polish</a><a class=\"dropdown-item\" href=\"https://www.spaceweatherlive.com/ru\" lang=\"ru\"><span class=\"flag flag-ru\"></span> Russian</a><a class=\"dropdown-item\" href=\"https://www.spaceweatherlive.com/sv\" lang=\"sv\"><span class=\"flag flag-se\"></span> Swedish</a><a class=\"dropdown-item\" href=\"https://www.spaceweatherlive.com/uk\" lang=\"uk\"><span class=\"flag flag-ua\"></span> Ukrainian</a></div> </li></ul>, <ul class=\"nav nav-tabs\"> <li class=\"nav-item dropdown\"> <a aria-expanded=\"false\" aria-haspopup=\"true\" class=\"nav-link dropdown-toggle\" data-toggle=\"dropdown\" href=\"#\" role=\"button\">Solar Cycle</a> <div class=\"dropdown-menu\"> <a class=\"dropdown-item\" href=\"https://www.spaceweatherlive.com/en/solar-activity/top-50-solar-flares/solar-cycle/23.html\">SC23</a> <a class=\"dropdown-item\" href=\"https://www.spaceweatherlive.com/en/solar-activity/top-50-solar-flares/solar-cycle/24.html\">SC24</a> <a class=\"dropdown-item\" href=\"https://www.spaceweatherlive.com/en/solar-activity/top-50-solar-flares/solar-cycle/25.html\">SC25</a> </div> </li> <li class=\"nav-item dropdown\"> <a aria-expanded=\"false\" aria-haspopup=\"true\" class=\"nav-link dropdown-toggle\" data-toggle=\"dropdown\" href=\"#\" role=\"button\">year</a> <div class=\"dropdown-menu\"> <a class=\"dropdown-item\" href=\"https://www.spaceweatherlive.com/en/solar-activity/top-50-solar-flares/year/1996.html\">1996</a><a class=\"dropdown-item\" href=\"https://www.spaceweatherlive.com/en/solar-activity/top-50-solar-flares/year/1997.html\">1997</a><a class=\"dropdown-item\" href=\"https://www.spaceweatherlive.com/en/solar-activity/top-50-solar-flares/year/1998.html\">1998</a><a class=\"dropdown-item\" href=\"https://www.spaceweatherlive.com/en/solar-activity/top-50-solar-flares/year/1999.html\">1999</a><a class=\"dropdown-item\" href=\"https://www.spaceweatherlive.com/en/solar-activity/top-50-solar-flares/year/2000.html\">2000</a><a class=\"dropdown-item\" href=\"https://www.spaceweatherlive.com/en/solar-activity/top-50-solar-flares/year/2001.html\">2001</a><a class=\"dropdown-item\" href=\"https://www.spaceweatherlive.com/en/solar-activity/top-50-solar-flares/year/2002.html\">2002</a><a class=\"dropdown-item\" href=\"https://www.spaceweatherlive.com/en/solar-activity/top-50-solar-flares/year/2003.html\">2003</a><a class=\"dropdown-item\" href=\"https://www.spaceweatherlive.com/en/solar-activity/top-50-solar-flares/year/2004.html\">2004</a><a class=\"dropdown-item\" href=\"https://www.spaceweatherlive.com/en/solar-activity/top-50-solar-flares/year/2005.html\">2005</a><a class=\"dropdown-item\" href=\"https://www.spaceweatherlive.com/en/solar-activity/top-50-solar-flares/year/2006.html\">2006</a><a class=\"dropdown-item\" href=\"https://www.spaceweatherlive.com/en/solar-activity/top-50-solar-flares/year/2007.html\">2007</a><a class=\"dropdown-item\" href=\"https://www.spaceweatherlive.com/en/solar-activity/top-50-solar-flares/year/2008.html\">2008</a><a class=\"dropdown-item\" href=\"https://www.spaceweatherlive.com/en/solar-activity/top-50-solar-flares/year/2009.html\">2009</a><a class=\"dropdown-item\" href=\"https://www.spaceweatherlive.com/en/solar-activity/top-50-solar-flares/year/2010.html\">2010</a><a class=\"dropdown-item\" href=\"https://www.spaceweatherlive.com/en/solar-activity/top-50-solar-flares/year/2011.html\">2011</a><a class=\"dropdown-item\" href=\"https://www.spaceweatherlive.com/en/solar-activity/top-50-solar-flares/year/2012.html\">2012</a><a class=\"dropdown-item\" href=\"https://www.spaceweatherlive.com/en/solar-activity/top-50-solar-flares/year/2013.html\">2013</a><a class=\"dropdown-item\" href=\"https://www.spaceweatherlive.com/en/solar-activity/top-50-solar-flares/year/2014.html\">2014</a><a class=\"dropdown-item\" href=\"https://www.spaceweatherlive.com/en/solar-activity/top-50-solar-flares/year/2015.html\">2015</a><a class=\"dropdown-item\" href=\"https://www.spaceweatherlive.com/en/solar-activity/top-50-solar-flares/year/2016.html\">2016</a><a class=\"dropdown-item\" href=\"https://www.spaceweatherlive.com/en/solar-activity/top-50-solar-flares/year/2017.html\">2017</a><a class=\"dropdown-item\" href=\"https://www.spaceweatherlive.com/en/solar-activity/top-50-solar-flares/year/2018.html\">2018</a><a class=\"dropdown-item\" href=\"https://www.spaceweatherlive.com/en/solar-activity/top-50-solar-flares/year/2019.html\">2019</a><a class=\"dropdown-item\" href=\"https://www.spaceweatherlive.com/en/solar-activity/top-50-solar-flares/year/2020.html\">2020</a><a class=\"dropdown-item\" href=\"https://www.spaceweatherlive.com/en/solar-activity/top-50-solar-flares/year/2021.html\">2021</a> </div> </li> </ul>, <ul class=\"list-group list-group-flush\"> <li class=\"list-group-item bg-light\"><a href=\"https://www.spaceweatherlive.com/community/topic/1931-new-sunspot-activity/&amp;do=getNewComment\">New sunspot activity <span class=\"badge badge-secondary\"><svg aria-hidden=\"true\" class=\"svg-inline--fa fa-comments fa-w-18\" data-fa-i2svg=\"\" data-icon=\"comments\" data-prefix=\"far\" focusable=\"false\" role=\"img\" viewbox=\"0 0 576 512\" xmlns=\"http://www.w3.org/2000/svg\"><path d=\"M532 386.2c27.5-27.1 44-61.1 44-98.2 0-80-76.5-146.1-176.2-157.9C368.3 72.5 294.3 32 208 32 93.1 32 0 103.6 0 192c0 37 16.5 71 44 98.2-15.3 30.7-37.3 54.5-37.7 54.9-6.3 6.7-8.1 16.5-4.4 25 3.6 8.5 12 14 21.2 14 53.5 0 96.7-20.2 125.2-38.8 9.2 2.1 18.7 3.7 28.4 4.9C208.1 407.6 281.8 448 368 448c20.8 0 40.8-2.4 59.8-6.8C456.3 459.7 499.4 480 553 480c9.2 0 17.5-5.5 21.2-14 3.6-8.5 1.9-18.3-4.4-25-.4-.3-22.5-24.1-37.8-54.8zm-392.8-92.3L122.1 305c-14.1 9.1-28.5 16.3-43.1 21.4 2.7-4.7 5.4-9.7 8-14.8l15.5-31.1L77.7 256C64.2 242.6 48 220.7 48 192c0-60.7 73.3-112 160-112s160 51.3 160 112-73.3 112-160 112c-16.5 0-33-1.9-49-5.6l-19.8-4.5zM498.3 352l-24.7 24.4 15.5 31.1c2.6 5.1 5.3 10.1 8 14.8-14.6-5.1-29-12.3-43.1-21.4l-17.1-11.1-19.9 4.6c-16 3.7-32.5 5.6-49 5.6-54 0-102.2-20.1-131.3-49.7C338 339.5 416 272.9 416 192c0-3.4-.4-6.7-.7-10C479.7 196.5 528 238.8 528 288c0 28.7-16.2 50.6-29.7 64z\" fill=\"currentColor\"></path></svg><!-- <i class=\"far fa-comments\"></i> Font Awesome fontawesome.com --> 2</span></a></li><li class=\"list-group-item bg-light\"><a href=\"https://www.spaceweatherlive.com/community/topic/1394-observed-connection-between-imf-and-earthquakesshakesfeedback/&amp;do=getNewComment\">Observed connection between IMF and Earthquakes/Shakes/Feedback <span class=\"badge badge-secondary\"><svg aria-hidden=\"true\" class=\"svg-inline--fa fa-comments fa-w-18\" data-fa-i2svg=\"\" data-icon=\"comments\" data-prefix=\"far\" focusable=\"false\" role=\"img\" viewbox=\"0 0 576 512\" xmlns=\"http://www.w3.org/2000/svg\"><path d=\"M532 386.2c27.5-27.1 44-61.1 44-98.2 0-80-76.5-146.1-176.2-157.9C368.3 72.5 294.3 32 208 32 93.1 32 0 103.6 0 192c0 37 16.5 71 44 98.2-15.3 30.7-37.3 54.5-37.7 54.9-6.3 6.7-8.1 16.5-4.4 25 3.6 8.5 12 14 21.2 14 53.5 0 96.7-20.2 125.2-38.8 9.2 2.1 18.7 3.7 28.4 4.9C208.1 407.6 281.8 448 368 448c20.8 0 40.8-2.4 59.8-6.8C456.3 459.7 499.4 480 553 480c9.2 0 17.5-5.5 21.2-14 3.6-8.5 1.9-18.3-4.4-25-.4-.3-22.5-24.1-37.8-54.8zm-392.8-92.3L122.1 305c-14.1 9.1-28.5 16.3-43.1 21.4 2.7-4.7 5.4-9.7 8-14.8l15.5-31.1L77.7 256C64.2 242.6 48 220.7 48 192c0-60.7 73.3-112 160-112s160 51.3 160 112-73.3 112-160 112c-16.5 0-33-1.9-49-5.6l-19.8-4.5zM498.3 352l-24.7 24.4 15.5 31.1c2.6 5.1 5.3 10.1 8 14.8-14.6-5.1-29-12.3-43.1-21.4l-17.1-11.1-19.9 4.6c-16 3.7-32.5 5.6-49 5.6-54 0-102.2-20.1-131.3-49.7C338 339.5 416 272.9 416 192c0-3.4-.4-6.7-.7-10C479.7 196.5 528 238.8 528 288c0 28.7-16.2 50.6-29.7 64z\" fill=\"currentColor\"></path></svg><!-- <i class=\"far fa-comments\"></i> Font Awesome fontawesome.com --> 4</span></a></li><li class=\"list-group-item bg-light\"><a href=\"https://www.spaceweatherlive.com/community/topic/1934-another-question-but-about-the-filaments/&amp;do=getNewComment\">Another question but about the filaments <span class=\"badge badge-secondary\"><svg aria-hidden=\"true\" class=\"svg-inline--fa fa-comments fa-w-18\" data-fa-i2svg=\"\" data-icon=\"comments\" data-prefix=\"far\" focusable=\"false\" role=\"img\" viewbox=\"0 0 576 512\" xmlns=\"http://www.w3.org/2000/svg\"><path d=\"M532 386.2c27.5-27.1 44-61.1 44-98.2 0-80-76.5-146.1-176.2-157.9C368.3 72.5 294.3 32 208 32 93.1 32 0 103.6 0 192c0 37 16.5 71 44 98.2-15.3 30.7-37.3 54.5-37.7 54.9-6.3 6.7-8.1 16.5-4.4 25 3.6 8.5 12 14 21.2 14 53.5 0 96.7-20.2 125.2-38.8 9.2 2.1 18.7 3.7 28.4 4.9C208.1 407.6 281.8 448 368 448c20.8 0 40.8-2.4 59.8-6.8C456.3 459.7 499.4 480 553 480c9.2 0 17.5-5.5 21.2-14 3.6-8.5 1.9-18.3-4.4-25-.4-.3-22.5-24.1-37.8-54.8zm-392.8-92.3L122.1 305c-14.1 9.1-28.5 16.3-43.1 21.4 2.7-4.7 5.4-9.7 8-14.8l15.5-31.1L77.7 256C64.2 242.6 48 220.7 48 192c0-60.7 73.3-112 160-112s160 51.3 160 112-73.3 112-160 112c-16.5 0-33-1.9-49-5.6l-19.8-4.5zM498.3 352l-24.7 24.4 15.5 31.1c2.6 5.1 5.3 10.1 8 14.8-14.6-5.1-29-12.3-43.1-21.4l-17.1-11.1-19.9 4.6c-16 3.7-32.5 5.6-49 5.6-54 0-102.2-20.1-131.3-49.7C338 339.5 416 272.9 416 192c0-3.4-.4-6.7-.7-10C479.7 196.5 528 238.8 528 288c0 28.7-16.2 50.6-29.7 64z\" fill=\"currentColor\"></path></svg><!-- <i class=\"far fa-comments\"></i> Font Awesome fontawesome.com --> 5</span></a></li><li class=\"list-group-item bg-light\"><a href=\"https://www.spaceweatherlive.com/community/topic/1935-can-solar-activity-be-measured-and-forecasted-by-spacecrafts-that-are-used-for-microgravity-missions/&amp;do=getNewComment\">Can solar activity be measured and forecasted by spacecrafts that are used for microgravity missions <span class=\"badge badge-secondary\"><svg aria-hidden=\"true\" class=\"svg-inline--fa fa-comments fa-w-18\" data-fa-i2svg=\"\" data-icon=\"comments\" data-prefix=\"far\" focusable=\"false\" role=\"img\" viewbox=\"0 0 576 512\" xmlns=\"http://www.w3.org/2000/svg\"><path d=\"M532 386.2c27.5-27.1 44-61.1 44-98.2 0-80-76.5-146.1-176.2-157.9C368.3 72.5 294.3 32 208 32 93.1 32 0 103.6 0 192c0 37 16.5 71 44 98.2-15.3 30.7-37.3 54.5-37.7 54.9-6.3 6.7-8.1 16.5-4.4 25 3.6 8.5 12 14 21.2 14 53.5 0 96.7-20.2 125.2-38.8 9.2 2.1 18.7 3.7 28.4 4.9C208.1 407.6 281.8 448 368 448c20.8 0 40.8-2.4 59.8-6.8C456.3 459.7 499.4 480 553 480c9.2 0 17.5-5.5 21.2-14 3.6-8.5 1.9-18.3-4.4-25-.4-.3-22.5-24.1-37.8-54.8zm-392.8-92.3L122.1 305c-14.1 9.1-28.5 16.3-43.1 21.4 2.7-4.7 5.4-9.7 8-14.8l15.5-31.1L77.7 256C64.2 242.6 48 220.7 48 192c0-60.7 73.3-112 160-112s160 51.3 160 112-73.3 112-160 112c-16.5 0-33-1.9-49-5.6l-19.8-4.5zM498.3 352l-24.7 24.4 15.5 31.1c2.6 5.1 5.3 10.1 8 14.8-14.6-5.1-29-12.3-43.1-21.4l-17.1-11.1-19.9 4.6c-16 3.7-32.5 5.6-49 5.6-54 0-102.2-20.1-131.3-49.7C338 339.5 416 272.9 416 192c0-3.4-.4-6.7-.7-10C479.7 196.5 528 238.8 528 288c0 28.7-16.2 50.6-29.7 64z\" fill=\"currentColor\"></path></svg><!-- <i class=\"far fa-comments\"></i> Font Awesome fontawesome.com --> 2</span></a></li><li class=\"list-group-item bg-light\"><a href=\"https://www.spaceweatherlive.com/community/topic/1932-muon-detector/&amp;do=getNewComment\">Muon Detector <span class=\"badge badge-secondary\"><svg aria-hidden=\"true\" class=\"svg-inline--fa fa-comments fa-w-18\" data-fa-i2svg=\"\" data-icon=\"comments\" data-prefix=\"far\" focusable=\"false\" role=\"img\" viewbox=\"0 0 576 512\" xmlns=\"http://www.w3.org/2000/svg\"><path d=\"M532 386.2c27.5-27.1 44-61.1 44-98.2 0-80-76.5-146.1-176.2-157.9C368.3 72.5 294.3 32 208 32 93.1 32 0 103.6 0 192c0 37 16.5 71 44 98.2-15.3 30.7-37.3 54.5-37.7 54.9-6.3 6.7-8.1 16.5-4.4 25 3.6 8.5 12 14 21.2 14 53.5 0 96.7-20.2 125.2-38.8 9.2 2.1 18.7 3.7 28.4 4.9C208.1 407.6 281.8 448 368 448c20.8 0 40.8-2.4 59.8-6.8C456.3 459.7 499.4 480 553 480c9.2 0 17.5-5.5 21.2-14 3.6-8.5 1.9-18.3-4.4-25-.4-.3-22.5-24.1-37.8-54.8zm-392.8-92.3L122.1 305c-14.1 9.1-28.5 16.3-43.1 21.4 2.7-4.7 5.4-9.7 8-14.8l15.5-31.1L77.7 256C64.2 242.6 48 220.7 48 192c0-60.7 73.3-112 160-112s160 51.3 160 112-73.3 112-160 112c-16.5 0-33-1.9-49-5.6l-19.8-4.5zM498.3 352l-24.7 24.4 15.5 31.1c2.6 5.1 5.3 10.1 8 14.8-14.6-5.1-29-12.3-43.1-21.4l-17.1-11.1-19.9 4.6c-16 3.7-32.5 5.6-49 5.6-54 0-102.2-20.1-131.3-49.7C338 339.5 416 272.9 416 192c0-3.4-.4-6.7-.7-10C479.7 196.5 528 238.8 528 288c0 28.7-16.2 50.6-29.7 64z\" fill=\"currentColor\"></path></svg><!-- <i class=\"far fa-comments\"></i> Font Awesome fontawesome.com --> 7</span></a></li> </ul>, <ul class=\"list-group list-group-flush\"><li class=\"list-group-item bg-light\"><a href=\"https://www.spaceweatherlive.com/en\" lang=\"en\"><span class=\"flag flag-us\"></span> English</a></li><li class=\"list-group-item bg-light\"><a href=\"https://www.spaceweatherlive.com/ca\" lang=\"ca\"><span class=\"flag flag-catalonia\"></span> Catalan</a></li><li class=\"list-group-item bg-light\"><a href=\"https://www.spaceweatherlive.com/es\" lang=\"es\"><span class=\"flag flag-es\"></span> Spanish</a></li><li class=\"list-group-item bg-light\"><a href=\"https://www.spaceweatherlive.com/de\" lang=\"de\"><span class=\"flag flag-de\"></span> German</a></li><li class=\"list-group-item bg-light\"><a href=\"https://www.spaceweatherlive.com/et\" lang=\"et\"><span class=\"flag flag-ee\"></span> Estonian</a></li><li class=\"list-group-item bg-light\"><a href=\"https://www.spaceweatherlive.com/fi\" lang=\"fi\"><span class=\"flag flag-fi\"></span> Finnish</a></li><li class=\"list-group-item bg-light\"><a href=\"https://www.spaceweatherlive.com/fr\" lang=\"fr\"><span class=\"flag flag-fr\"></span> French</a></li><li class=\"list-group-item bg-light\"><a href=\"https://www.spaceweatherlive.com/it\" lang=\"it\"><span class=\"flag flag-it\"></span> Italian</a></li><li class=\"list-group-item bg-light\"><a href=\"https://www.spaceweatherlive.com/nl\" lang=\"nl\"><span class=\"flag flag-nl\"></span> Dutch</a></li><li class=\"list-group-item bg-light\"><a href=\"https://www.spaceweatherlive.com/pl\" lang=\"pl\"><span class=\"flag flag-pl\"></span> Polish</a></li><li class=\"list-group-item bg-light\"><a href=\"https://www.spaceweatherlive.com/ru\" lang=\"ru\"><span class=\"flag flag-ru\"></span> Russian</a></li><li class=\"list-group-item bg-light\"><a href=\"https://www.spaceweatherlive.com/sv\" lang=\"sv\"><span class=\"flag flag-se\"></span> Swedish</a></li><li class=\"list-group-item bg-light\"><a href=\"https://www.spaceweatherlive.com/uk\" lang=\"uk\"><span class=\"flag flag-ua\"></span> Ukrainian</a></li></ul>, <ul> <li><a href=\"https://www.spacepage.be/\">Spacepage</a></li> <li><a href=\"https://www.spaceweatherlive.com/\">SpaceWeatherLive</a></li> <li><a href=\"https://www.belgiuminspace.be/\">Belgium in Space</a></li> <li><a href=\"https://www.starnights.be/\">StarNights</a></li> </ul>]\n"
     ]
    }
   ],
   "source": [
    "print(table)"
   ]
  },
  {
   "cell_type": "code",
   "execution_count": null,
   "id": "683a33a6",
   "metadata": {},
   "outputs": [],
   "source": []
  },
  {
   "cell_type": "code",
   "execution_count": null,
   "id": "bdaffea1",
   "metadata": {},
   "outputs": [],
   "source": []
  }
 ],
 "metadata": {
  "kernelspec": {
   "display_name": "Python 3 (ipykernel)",
   "language": "python",
   "name": "python3"
  },
  "language_info": {
   "codemirror_mode": {
    "name": "ipython",
    "version": 3
   },
   "file_extension": ".py",
   "mimetype": "text/x-python",
   "name": "python",
   "nbconvert_exporter": "python",
   "pygments_lexer": "ipython3",
   "version": "3.9.13"
  }
 },
 "nbformat": 4,
 "nbformat_minor": 5
}
